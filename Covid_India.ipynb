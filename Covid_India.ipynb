{
  "nbformat": 4,
  "nbformat_minor": 0,
  "metadata": {
    "colab": {
      "name": "Copy of Covid.ipynb",
      "provenance": [],
      "collapsed_sections": []
    },
    "kernelspec": {
      "display_name": "Python 3",
      "name": "python3"
    }
  },
  "cells": [
    {
      "cell_type": "markdown",
      "metadata": {
        "id": "7Mguf4OBa2aC"
      },
      "source": [
        "## Data Cleaning"
      ]
    },
    {
      "cell_type": "code",
      "metadata": {
        "id": "G9jI9PxsHCeP"
      },
      "source": [
        "import pandas as pd\n",
        "import numpy as np"
      ],
      "execution_count": 1,
      "outputs": []
    },
    {
      "cell_type": "code",
      "metadata": {
        "colab": {
          "base_uri": "https://localhost:8080/"
        },
        "id": "qX9TViIjHOZr",
        "outputId": "924f1a4e-4444-43cf-e291-453a9bb17306"
      },
      "source": [
        "df = pd.read_csv(\"WHO-COVID-19-global-data.csv\")\n",
        "df.shape"
      ],
      "execution_count": 4,
      "outputs": [
        {
          "output_type": "execute_result",
          "data": {
            "text/plain": [
              "(49993, 8)"
            ]
          },
          "metadata": {
            "tags": []
          },
          "execution_count": 4
        }
      ]
    },
    {
      "cell_type": "code",
      "metadata": {
        "colab": {
          "base_uri": "https://localhost:8080/"
        },
        "id": "SORFx-R2Hbrn",
        "outputId": "3f46053a-2793-422b-8dc4-d60a8d16c0f9"
      },
      "source": [
        "df.info()"
      ],
      "execution_count": 5,
      "outputs": [
        {
          "output_type": "stream",
          "text": [
            "<class 'pandas.core.frame.DataFrame'>\n",
            "RangeIndex: 49993 entries, 0 to 49992\n",
            "Data columns (total 8 columns):\n",
            " #   Column             Non-Null Count  Dtype  \n",
            "---  ------             --------------  -----  \n",
            " 0   Date_reported      49993 non-null  object \n",
            " 1   Country_code       49993 non-null  object \n",
            " 2   Country            49992 non-null  object \n",
            " 3   WHO_region         49992 non-null  object \n",
            " 4   New_cases          49992 non-null  float64\n",
            " 5   Cumulative_cases   49992 non-null  float64\n",
            " 6   New_deaths         49992 non-null  float64\n",
            " 7   Cumulative_deaths  49992 non-null  float64\n",
            "dtypes: float64(4), object(4)\n",
            "memory usage: 3.1+ MB\n"
          ],
          "name": "stdout"
        }
      ]
    },
    {
      "cell_type": "code",
      "metadata": {
        "colab": {
          "base_uri": "https://localhost:8080/"
        },
        "id": "dYe9FJ4lHefb",
        "outputId": "10ecebe8-4931-456b-df40-8525315f7f1e"
      },
      "source": [
        "df.columns = [i.replace(\" \",\"\") for i in df.columns]\n",
        "df.columns"
      ],
      "execution_count": 6,
      "outputs": [
        {
          "output_type": "execute_result",
          "data": {
            "text/plain": [
              "Index(['Date_reported', 'Country_code', 'Country', 'WHO_region', 'New_cases',\n",
              "       'Cumulative_cases', 'New_deaths', 'Cumulative_deaths'],\n",
              "      dtype='object')"
            ]
          },
          "metadata": {
            "tags": []
          },
          "execution_count": 6
        }
      ]
    },
    {
      "cell_type": "code",
      "metadata": {
        "colab": {
          "base_uri": "https://localhost:8080/",
          "height": 218
        },
        "id": "V_cgWchXHjwU",
        "outputId": "701ffb84-dce2-405d-b0dd-a2f10dc78222"
      },
      "source": [
        "df = df[df['Country'] == \"India\"]\n",
        "df.head()"
      ],
      "execution_count": 7,
      "outputs": [
        {
          "output_type": "execute_result",
          "data": {
            "text/html": [
              "<div>\n",
              "<style scoped>\n",
              "    .dataframe tbody tr th:only-of-type {\n",
              "        vertical-align: middle;\n",
              "    }\n",
              "\n",
              "    .dataframe tbody tr th {\n",
              "        vertical-align: top;\n",
              "    }\n",
              "\n",
              "    .dataframe thead th {\n",
              "        text-align: right;\n",
              "    }\n",
              "</style>\n",
              "<table border=\"1\" class=\"dataframe\">\n",
              "  <thead>\n",
              "    <tr style=\"text-align: right;\">\n",
              "      <th></th>\n",
              "      <th>Date_reported</th>\n",
              "      <th>Country_code</th>\n",
              "      <th>Country</th>\n",
              "      <th>WHO_region</th>\n",
              "      <th>New_cases</th>\n",
              "      <th>Cumulative_cases</th>\n",
              "      <th>New_deaths</th>\n",
              "      <th>Cumulative_deaths</th>\n",
              "    </tr>\n",
              "  </thead>\n",
              "  <tbody>\n",
              "    <tr>\n",
              "      <th>35328</th>\n",
              "      <td>2020-01-03</td>\n",
              "      <td>IN</td>\n",
              "      <td>India</td>\n",
              "      <td>SEARO</td>\n",
              "      <td>0.0</td>\n",
              "      <td>0.0</td>\n",
              "      <td>0.0</td>\n",
              "      <td>0.0</td>\n",
              "    </tr>\n",
              "    <tr>\n",
              "      <th>35329</th>\n",
              "      <td>2020-01-04</td>\n",
              "      <td>IN</td>\n",
              "      <td>India</td>\n",
              "      <td>SEARO</td>\n",
              "      <td>0.0</td>\n",
              "      <td>0.0</td>\n",
              "      <td>0.0</td>\n",
              "      <td>0.0</td>\n",
              "    </tr>\n",
              "    <tr>\n",
              "      <th>35330</th>\n",
              "      <td>2020-01-05</td>\n",
              "      <td>IN</td>\n",
              "      <td>India</td>\n",
              "      <td>SEARO</td>\n",
              "      <td>0.0</td>\n",
              "      <td>0.0</td>\n",
              "      <td>0.0</td>\n",
              "      <td>0.0</td>\n",
              "    </tr>\n",
              "    <tr>\n",
              "      <th>35331</th>\n",
              "      <td>2020-01-06</td>\n",
              "      <td>IN</td>\n",
              "      <td>India</td>\n",
              "      <td>SEARO</td>\n",
              "      <td>0.0</td>\n",
              "      <td>0.0</td>\n",
              "      <td>0.0</td>\n",
              "      <td>0.0</td>\n",
              "    </tr>\n",
              "    <tr>\n",
              "      <th>35332</th>\n",
              "      <td>2020-01-07</td>\n",
              "      <td>IN</td>\n",
              "      <td>India</td>\n",
              "      <td>SEARO</td>\n",
              "      <td>0.0</td>\n",
              "      <td>0.0</td>\n",
              "      <td>0.0</td>\n",
              "      <td>0.0</td>\n",
              "    </tr>\n",
              "  </tbody>\n",
              "</table>\n",
              "</div>"
            ],
            "text/plain": [
              "      Date_reported Country_code  ... New_deaths Cumulative_deaths\n",
              "35328    2020-01-03           IN  ...        0.0               0.0\n",
              "35329    2020-01-04           IN  ...        0.0               0.0\n",
              "35330    2020-01-05           IN  ...        0.0               0.0\n",
              "35331    2020-01-06           IN  ...        0.0               0.0\n",
              "35332    2020-01-07           IN  ...        0.0               0.0\n",
              "\n",
              "[5 rows x 8 columns]"
            ]
          },
          "metadata": {
            "tags": []
          },
          "execution_count": 7
        }
      ]
    },
    {
      "cell_type": "code",
      "metadata": {
        "colab": {
          "base_uri": "https://localhost:8080/",
          "height": 198
        },
        "id": "wRHoA4eUHs7b",
        "outputId": "dafb0868-1e66-44f1-ea81-428120d0ff55"
      },
      "source": [
        "df = df.reset_index(drop=True)\n",
        "df = df[[\"Date_reported\",\"New_cases\",\"Cumulative_cases\",\"New_deaths\",\"Cumulative_deaths\"]]\n",
        "df.head()"
      ],
      "execution_count": 8,
      "outputs": [
        {
          "output_type": "execute_result",
          "data": {
            "text/html": [
              "<div>\n",
              "<style scoped>\n",
              "    .dataframe tbody tr th:only-of-type {\n",
              "        vertical-align: middle;\n",
              "    }\n",
              "\n",
              "    .dataframe tbody tr th {\n",
              "        vertical-align: top;\n",
              "    }\n",
              "\n",
              "    .dataframe thead th {\n",
              "        text-align: right;\n",
              "    }\n",
              "</style>\n",
              "<table border=\"1\" class=\"dataframe\">\n",
              "  <thead>\n",
              "    <tr style=\"text-align: right;\">\n",
              "      <th></th>\n",
              "      <th>Date_reported</th>\n",
              "      <th>New_cases</th>\n",
              "      <th>Cumulative_cases</th>\n",
              "      <th>New_deaths</th>\n",
              "      <th>Cumulative_deaths</th>\n",
              "    </tr>\n",
              "  </thead>\n",
              "  <tbody>\n",
              "    <tr>\n",
              "      <th>0</th>\n",
              "      <td>2020-01-03</td>\n",
              "      <td>0.0</td>\n",
              "      <td>0.0</td>\n",
              "      <td>0.0</td>\n",
              "      <td>0.0</td>\n",
              "    </tr>\n",
              "    <tr>\n",
              "      <th>1</th>\n",
              "      <td>2020-01-04</td>\n",
              "      <td>0.0</td>\n",
              "      <td>0.0</td>\n",
              "      <td>0.0</td>\n",
              "      <td>0.0</td>\n",
              "    </tr>\n",
              "    <tr>\n",
              "      <th>2</th>\n",
              "      <td>2020-01-05</td>\n",
              "      <td>0.0</td>\n",
              "      <td>0.0</td>\n",
              "      <td>0.0</td>\n",
              "      <td>0.0</td>\n",
              "    </tr>\n",
              "    <tr>\n",
              "      <th>3</th>\n",
              "      <td>2020-01-06</td>\n",
              "      <td>0.0</td>\n",
              "      <td>0.0</td>\n",
              "      <td>0.0</td>\n",
              "      <td>0.0</td>\n",
              "    </tr>\n",
              "    <tr>\n",
              "      <th>4</th>\n",
              "      <td>2020-01-07</td>\n",
              "      <td>0.0</td>\n",
              "      <td>0.0</td>\n",
              "      <td>0.0</td>\n",
              "      <td>0.0</td>\n",
              "    </tr>\n",
              "  </tbody>\n",
              "</table>\n",
              "</div>"
            ],
            "text/plain": [
              "  Date_reported  New_cases  Cumulative_cases  New_deaths  Cumulative_deaths\n",
              "0    2020-01-03        0.0               0.0         0.0                0.0\n",
              "1    2020-01-04        0.0               0.0         0.0                0.0\n",
              "2    2020-01-05        0.0               0.0         0.0                0.0\n",
              "3    2020-01-06        0.0               0.0         0.0                0.0\n",
              "4    2020-01-07        0.0               0.0         0.0                0.0"
            ]
          },
          "metadata": {
            "tags": []
          },
          "execution_count": 8
        }
      ]
    },
    {
      "cell_type": "code",
      "metadata": {
        "colab": {
          "base_uri": "https://localhost:8080/",
          "height": 198
        },
        "id": "xebIcw9uZ_0N",
        "outputId": "d21dcbea-8672-4a6b-f85d-3effebc0328a"
      },
      "source": [
        "df.tail()"
      ],
      "execution_count": 9,
      "outputs": [
        {
          "output_type": "execute_result",
          "data": {
            "text/html": [
              "<div>\n",
              "<style scoped>\n",
              "    .dataframe tbody tr th:only-of-type {\n",
              "        vertical-align: middle;\n",
              "    }\n",
              "\n",
              "    .dataframe tbody tr th {\n",
              "        vertical-align: top;\n",
              "    }\n",
              "\n",
              "    .dataframe thead th {\n",
              "        text-align: right;\n",
              "    }\n",
              "</style>\n",
              "<table border=\"1\" class=\"dataframe\">\n",
              "  <thead>\n",
              "    <tr style=\"text-align: right;\">\n",
              "      <th></th>\n",
              "      <th>Date_reported</th>\n",
              "      <th>New_cases</th>\n",
              "      <th>Cumulative_cases</th>\n",
              "      <th>New_deaths</th>\n",
              "      <th>Cumulative_deaths</th>\n",
              "    </tr>\n",
              "  </thead>\n",
              "  <tbody>\n",
              "    <tr>\n",
              "      <th>363</th>\n",
              "      <td>2020-12-31</td>\n",
              "      <td>21822.0</td>\n",
              "      <td>10266674.0</td>\n",
              "      <td>299.0</td>\n",
              "      <td>148738.0</td>\n",
              "    </tr>\n",
              "    <tr>\n",
              "      <th>364</th>\n",
              "      <td>2021-01-01</td>\n",
              "      <td>20035.0</td>\n",
              "      <td>10286709.0</td>\n",
              "      <td>256.0</td>\n",
              "      <td>148994.0</td>\n",
              "    </tr>\n",
              "    <tr>\n",
              "      <th>365</th>\n",
              "      <td>2021-01-02</td>\n",
              "      <td>19079.0</td>\n",
              "      <td>10305788.0</td>\n",
              "      <td>224.0</td>\n",
              "      <td>149218.0</td>\n",
              "    </tr>\n",
              "    <tr>\n",
              "      <th>366</th>\n",
              "      <td>2021-01-03</td>\n",
              "      <td>18177.0</td>\n",
              "      <td>10323965.0</td>\n",
              "      <td>217.0</td>\n",
              "      <td>149435.0</td>\n",
              "    </tr>\n",
              "    <tr>\n",
              "      <th>367</th>\n",
              "      <td>2021-01-04</td>\n",
              "      <td>16504.0</td>\n",
              "      <td>10340469.0</td>\n",
              "      <td>214.0</td>\n",
              "      <td>149649.0</td>\n",
              "    </tr>\n",
              "  </tbody>\n",
              "</table>\n",
              "</div>"
            ],
            "text/plain": [
              "    Date_reported  New_cases  Cumulative_cases  New_deaths  Cumulative_deaths\n",
              "363    2020-12-31    21822.0        10266674.0       299.0           148738.0\n",
              "364    2021-01-01    20035.0        10286709.0       256.0           148994.0\n",
              "365    2021-01-02    19079.0        10305788.0       224.0           149218.0\n",
              "366    2021-01-03    18177.0        10323965.0       217.0           149435.0\n",
              "367    2021-01-04    16504.0        10340469.0       214.0           149649.0"
            ]
          },
          "metadata": {
            "tags": []
          },
          "execution_count": 9
        }
      ]
    },
    {
      "cell_type": "code",
      "metadata": {
        "colab": {
          "base_uri": "https://localhost:8080/",
          "height": 198
        },
        "id": "joqAp6NAH3GZ",
        "outputId": "fffaf83f-9d7d-47de-c5c5-ed2b51789295"
      },
      "source": [
        "df = df.iloc[27:,:]\n",
        "df.head()"
      ],
      "execution_count": 10,
      "outputs": [
        {
          "output_type": "execute_result",
          "data": {
            "text/html": [
              "<div>\n",
              "<style scoped>\n",
              "    .dataframe tbody tr th:only-of-type {\n",
              "        vertical-align: middle;\n",
              "    }\n",
              "\n",
              "    .dataframe tbody tr th {\n",
              "        vertical-align: top;\n",
              "    }\n",
              "\n",
              "    .dataframe thead th {\n",
              "        text-align: right;\n",
              "    }\n",
              "</style>\n",
              "<table border=\"1\" class=\"dataframe\">\n",
              "  <thead>\n",
              "    <tr style=\"text-align: right;\">\n",
              "      <th></th>\n",
              "      <th>Date_reported</th>\n",
              "      <th>New_cases</th>\n",
              "      <th>Cumulative_cases</th>\n",
              "      <th>New_deaths</th>\n",
              "      <th>Cumulative_deaths</th>\n",
              "    </tr>\n",
              "  </thead>\n",
              "  <tbody>\n",
              "    <tr>\n",
              "      <th>27</th>\n",
              "      <td>2020-01-30</td>\n",
              "      <td>5.0</td>\n",
              "      <td>5.0</td>\n",
              "      <td>0.0</td>\n",
              "      <td>0.0</td>\n",
              "    </tr>\n",
              "    <tr>\n",
              "      <th>28</th>\n",
              "      <td>2020-01-31</td>\n",
              "      <td>0.0</td>\n",
              "      <td>5.0</td>\n",
              "      <td>0.0</td>\n",
              "      <td>0.0</td>\n",
              "    </tr>\n",
              "    <tr>\n",
              "      <th>29</th>\n",
              "      <td>2020-02-01</td>\n",
              "      <td>0.0</td>\n",
              "      <td>5.0</td>\n",
              "      <td>0.0</td>\n",
              "      <td>0.0</td>\n",
              "    </tr>\n",
              "    <tr>\n",
              "      <th>30</th>\n",
              "      <td>2020-02-02</td>\n",
              "      <td>1.0</td>\n",
              "      <td>6.0</td>\n",
              "      <td>0.0</td>\n",
              "      <td>0.0</td>\n",
              "    </tr>\n",
              "    <tr>\n",
              "      <th>31</th>\n",
              "      <td>2020-02-03</td>\n",
              "      <td>1.0</td>\n",
              "      <td>7.0</td>\n",
              "      <td>0.0</td>\n",
              "      <td>0.0</td>\n",
              "    </tr>\n",
              "  </tbody>\n",
              "</table>\n",
              "</div>"
            ],
            "text/plain": [
              "   Date_reported  New_cases  Cumulative_cases  New_deaths  Cumulative_deaths\n",
              "27    2020-01-30        5.0               5.0         0.0                0.0\n",
              "28    2020-01-31        0.0               5.0         0.0                0.0\n",
              "29    2020-02-01        0.0               5.0         0.0                0.0\n",
              "30    2020-02-02        1.0               6.0         0.0                0.0\n",
              "31    2020-02-03        1.0               7.0         0.0                0.0"
            ]
          },
          "metadata": {
            "tags": []
          },
          "execution_count": 10
        }
      ]
    },
    {
      "cell_type": "code",
      "metadata": {
        "colab": {
          "base_uri": "https://localhost:8080/",
          "height": 198
        },
        "id": "c1mRR2r_boKm",
        "outputId": "a6c490d4-65ff-4880-cb09-e0e17b93f839"
      },
      "source": [
        "df.tail()"
      ],
      "execution_count": 11,
      "outputs": [
        {
          "output_type": "execute_result",
          "data": {
            "text/html": [
              "<div>\n",
              "<style scoped>\n",
              "    .dataframe tbody tr th:only-of-type {\n",
              "        vertical-align: middle;\n",
              "    }\n",
              "\n",
              "    .dataframe tbody tr th {\n",
              "        vertical-align: top;\n",
              "    }\n",
              "\n",
              "    .dataframe thead th {\n",
              "        text-align: right;\n",
              "    }\n",
              "</style>\n",
              "<table border=\"1\" class=\"dataframe\">\n",
              "  <thead>\n",
              "    <tr style=\"text-align: right;\">\n",
              "      <th></th>\n",
              "      <th>Date_reported</th>\n",
              "      <th>New_cases</th>\n",
              "      <th>Cumulative_cases</th>\n",
              "      <th>New_deaths</th>\n",
              "      <th>Cumulative_deaths</th>\n",
              "    </tr>\n",
              "  </thead>\n",
              "  <tbody>\n",
              "    <tr>\n",
              "      <th>363</th>\n",
              "      <td>2020-12-31</td>\n",
              "      <td>21822.0</td>\n",
              "      <td>10266674.0</td>\n",
              "      <td>299.0</td>\n",
              "      <td>148738.0</td>\n",
              "    </tr>\n",
              "    <tr>\n",
              "      <th>364</th>\n",
              "      <td>2021-01-01</td>\n",
              "      <td>20035.0</td>\n",
              "      <td>10286709.0</td>\n",
              "      <td>256.0</td>\n",
              "      <td>148994.0</td>\n",
              "    </tr>\n",
              "    <tr>\n",
              "      <th>365</th>\n",
              "      <td>2021-01-02</td>\n",
              "      <td>19079.0</td>\n",
              "      <td>10305788.0</td>\n",
              "      <td>224.0</td>\n",
              "      <td>149218.0</td>\n",
              "    </tr>\n",
              "    <tr>\n",
              "      <th>366</th>\n",
              "      <td>2021-01-03</td>\n",
              "      <td>18177.0</td>\n",
              "      <td>10323965.0</td>\n",
              "      <td>217.0</td>\n",
              "      <td>149435.0</td>\n",
              "    </tr>\n",
              "    <tr>\n",
              "      <th>367</th>\n",
              "      <td>2021-01-04</td>\n",
              "      <td>16504.0</td>\n",
              "      <td>10340469.0</td>\n",
              "      <td>214.0</td>\n",
              "      <td>149649.0</td>\n",
              "    </tr>\n",
              "  </tbody>\n",
              "</table>\n",
              "</div>"
            ],
            "text/plain": [
              "    Date_reported  New_cases  Cumulative_cases  New_deaths  Cumulative_deaths\n",
              "363    2020-12-31    21822.0        10266674.0       299.0           148738.0\n",
              "364    2021-01-01    20035.0        10286709.0       256.0           148994.0\n",
              "365    2021-01-02    19079.0        10305788.0       224.0           149218.0\n",
              "366    2021-01-03    18177.0        10323965.0       217.0           149435.0\n",
              "367    2021-01-04    16504.0        10340469.0       214.0           149649.0"
            ]
          },
          "metadata": {
            "tags": []
          },
          "execution_count": 11
        }
      ]
    },
    {
      "cell_type": "code",
      "metadata": {
        "id": "wYYr7nwSemZG"
      },
      "source": [
        "df.to_csv(\"India.csv\",index=False)"
      ],
      "execution_count": 12,
      "outputs": []
    },
    {
      "cell_type": "markdown",
      "metadata": {
        "id": "c6vGz3J_Ij-F"
      },
      "source": [
        "### New Cases as target variable"
      ]
    },
    {
      "cell_type": "code",
      "metadata": {
        "id": "vUb7U2dIZSh6",
        "colab": {
          "base_uri": "https://localhost:8080/",
          "height": 228
        },
        "outputId": "26fe5ade-ee94-436d-f2b5-d069f008e005"
      },
      "source": [
        "data = pd.read_csv(\"India.csv\",usecols=[\"Date_reported\",\"New_cases\"],parse_dates=['Date_reported'],index_col=\"Date_reported\")\r\n",
        "# pd.read_csv(\"India.csv\").head()\r\n",
        "data.head()"
      ],
      "execution_count": 18,
      "outputs": [
        {
          "output_type": "execute_result",
          "data": {
            "text/html": [
              "<div>\n",
              "<style scoped>\n",
              "    .dataframe tbody tr th:only-of-type {\n",
              "        vertical-align: middle;\n",
              "    }\n",
              "\n",
              "    .dataframe tbody tr th {\n",
              "        vertical-align: top;\n",
              "    }\n",
              "\n",
              "    .dataframe thead th {\n",
              "        text-align: right;\n",
              "    }\n",
              "</style>\n",
              "<table border=\"1\" class=\"dataframe\">\n",
              "  <thead>\n",
              "    <tr style=\"text-align: right;\">\n",
              "      <th></th>\n",
              "      <th>New_cases</th>\n",
              "    </tr>\n",
              "    <tr>\n",
              "      <th>Date_reported</th>\n",
              "      <th></th>\n",
              "    </tr>\n",
              "  </thead>\n",
              "  <tbody>\n",
              "    <tr>\n",
              "      <th>2020-01-30</th>\n",
              "      <td>5.0</td>\n",
              "    </tr>\n",
              "    <tr>\n",
              "      <th>2020-01-31</th>\n",
              "      <td>0.0</td>\n",
              "    </tr>\n",
              "    <tr>\n",
              "      <th>2020-02-01</th>\n",
              "      <td>0.0</td>\n",
              "    </tr>\n",
              "    <tr>\n",
              "      <th>2020-02-02</th>\n",
              "      <td>1.0</td>\n",
              "    </tr>\n",
              "    <tr>\n",
              "      <th>2020-02-03</th>\n",
              "      <td>1.0</td>\n",
              "    </tr>\n",
              "  </tbody>\n",
              "</table>\n",
              "</div>"
            ],
            "text/plain": [
              "               New_cases\n",
              "Date_reported           \n",
              "2020-01-30           5.0\n",
              "2020-01-31           0.0\n",
              "2020-02-01           0.0\n",
              "2020-02-02           1.0\n",
              "2020-02-03           1.0"
            ]
          },
          "metadata": {
            "tags": []
          },
          "execution_count": 18
        }
      ]
    },
    {
      "cell_type": "code",
      "metadata": {
        "colab": {
          "base_uri": "https://localhost:8080/",
          "height": 228
        },
        "id": "cFnxux4Ub6EC",
        "outputId": "a6e8b7c5-8be2-4686-fdfd-2e2190b5c613"
      },
      "source": [
        "data.tail()"
      ],
      "execution_count": 19,
      "outputs": [
        {
          "output_type": "execute_result",
          "data": {
            "text/html": [
              "<div>\n",
              "<style scoped>\n",
              "    .dataframe tbody tr th:only-of-type {\n",
              "        vertical-align: middle;\n",
              "    }\n",
              "\n",
              "    .dataframe tbody tr th {\n",
              "        vertical-align: top;\n",
              "    }\n",
              "\n",
              "    .dataframe thead th {\n",
              "        text-align: right;\n",
              "    }\n",
              "</style>\n",
              "<table border=\"1\" class=\"dataframe\">\n",
              "  <thead>\n",
              "    <tr style=\"text-align: right;\">\n",
              "      <th></th>\n",
              "      <th>New_cases</th>\n",
              "    </tr>\n",
              "    <tr>\n",
              "      <th>Date_reported</th>\n",
              "      <th></th>\n",
              "    </tr>\n",
              "  </thead>\n",
              "  <tbody>\n",
              "    <tr>\n",
              "      <th>2020-12-31</th>\n",
              "      <td>21822.0</td>\n",
              "    </tr>\n",
              "    <tr>\n",
              "      <th>2021-01-01</th>\n",
              "      <td>20035.0</td>\n",
              "    </tr>\n",
              "    <tr>\n",
              "      <th>2021-01-02</th>\n",
              "      <td>19079.0</td>\n",
              "    </tr>\n",
              "    <tr>\n",
              "      <th>2021-01-03</th>\n",
              "      <td>18177.0</td>\n",
              "    </tr>\n",
              "    <tr>\n",
              "      <th>2021-01-04</th>\n",
              "      <td>16504.0</td>\n",
              "    </tr>\n",
              "  </tbody>\n",
              "</table>\n",
              "</div>"
            ],
            "text/plain": [
              "               New_cases\n",
              "Date_reported           \n",
              "2020-12-31       21822.0\n",
              "2021-01-01       20035.0\n",
              "2021-01-02       19079.0\n",
              "2021-01-03       18177.0\n",
              "2021-01-04       16504.0"
            ]
          },
          "metadata": {
            "tags": []
          },
          "execution_count": 19
        }
      ]
    },
    {
      "cell_type": "code",
      "metadata": {
        "colab": {
          "base_uri": "https://localhost:8080/"
        },
        "id": "gME-ggZ2b9xA",
        "outputId": "39b52dfc-e304-4066-dffe-47064c4691e4"
      },
      "source": [
        "data.info()"
      ],
      "execution_count": 20,
      "outputs": [
        {
          "output_type": "stream",
          "text": [
            "<class 'pandas.core.frame.DataFrame'>\n",
            "DatetimeIndex: 341 entries, 2020-01-30 to 2021-01-04\n",
            "Data columns (total 1 columns):\n",
            " #   Column     Non-Null Count  Dtype  \n",
            "---  ------     --------------  -----  \n",
            " 0   New_cases  341 non-null    float64\n",
            "dtypes: float64(1)\n",
            "memory usage: 5.3 KB\n"
          ],
          "name": "stdout"
        }
      ]
    },
    {
      "cell_type": "code",
      "metadata": {
        "colab": {
          "base_uri": "https://localhost:8080/",
          "height": 288
        },
        "id": "sUjx45EWb_8w",
        "outputId": "01d448e7-ad60-4416-e07d-a9d4894013c7"
      },
      "source": [
        "data.describe()"
      ],
      "execution_count": 21,
      "outputs": [
        {
          "output_type": "execute_result",
          "data": {
            "text/html": [
              "<div>\n",
              "<style scoped>\n",
              "    .dataframe tbody tr th:only-of-type {\n",
              "        vertical-align: middle;\n",
              "    }\n",
              "\n",
              "    .dataframe tbody tr th {\n",
              "        vertical-align: top;\n",
              "    }\n",
              "\n",
              "    .dataframe thead th {\n",
              "        text-align: right;\n",
              "    }\n",
              "</style>\n",
              "<table border=\"1\" class=\"dataframe\">\n",
              "  <thead>\n",
              "    <tr style=\"text-align: right;\">\n",
              "      <th></th>\n",
              "      <th>New_cases</th>\n",
              "    </tr>\n",
              "  </thead>\n",
              "  <tbody>\n",
              "    <tr>\n",
              "      <th>count</th>\n",
              "      <td>341.000000</td>\n",
              "    </tr>\n",
              "    <tr>\n",
              "      <th>mean</th>\n",
              "      <td>30323.956012</td>\n",
              "    </tr>\n",
              "    <tr>\n",
              "      <th>std</th>\n",
              "      <td>29412.963726</td>\n",
              "    </tr>\n",
              "    <tr>\n",
              "      <th>min</th>\n",
              "      <td>0.000000</td>\n",
              "    </tr>\n",
              "    <tr>\n",
              "      <th>25%</th>\n",
              "      <td>1429.000000</td>\n",
              "    </tr>\n",
              "    <tr>\n",
              "      <th>50%</th>\n",
              "      <td>22771.000000</td>\n",
              "    </tr>\n",
              "    <tr>\n",
              "      <th>75%</th>\n",
              "      <td>52050.000000</td>\n",
              "    </tr>\n",
              "    <tr>\n",
              "      <th>max</th>\n",
              "      <td>97894.000000</td>\n",
              "    </tr>\n",
              "  </tbody>\n",
              "</table>\n",
              "</div>"
            ],
            "text/plain": [
              "          New_cases\n",
              "count    341.000000\n",
              "mean   30323.956012\n",
              "std    29412.963726\n",
              "min        0.000000\n",
              "25%     1429.000000\n",
              "50%    22771.000000\n",
              "75%    52050.000000\n",
              "max    97894.000000"
            ]
          },
          "metadata": {
            "tags": []
          },
          "execution_count": 21
        }
      ]
    },
    {
      "cell_type": "code",
      "metadata": {
        "colab": {
          "base_uri": "https://localhost:8080/",
          "height": 310
        },
        "id": "IY--TbQaZx3r",
        "outputId": "5eec5ed2-b096-47f1-a0d8-f968421d0c3f"
      },
      "source": [
        "data.plot()"
      ],
      "execution_count": 22,
      "outputs": [
        {
          "output_type": "execute_result",
          "data": {
            "text/plain": [
              "<matplotlib.axes._subplots.AxesSubplot at 0x7f17c41d8630>"
            ]
          },
          "metadata": {
            "tags": []
          },
          "execution_count": 22
        },
        {
          "output_type": "display_data",
          "data": {
            "image/png": "[encoded data removed]",
            "text/plain": [
              "<Figure size 432x288 with 1 Axes>"
            ]
          },
          "metadata": {
            "tags": [],
            "needs_background": "light"
          }
        }
      ]
    },
    {
      "cell_type": "code",
      "metadata": {
        "id": "Z9HXOhKXl2yr"
      },
      "source": [
        "from sklearn.preprocessing import MinMaxScaler\r\n",
        "scaler = MinMaxScaler()"
      ],
      "execution_count": 23,
      "outputs": []
    },
    {
      "cell_type": "code",
      "metadata": {
        "colab": {
          "base_uri": "https://localhost:8080/"
        },
        "id": "jh1Vd0ill2vc",
        "outputId": "27f54df4-b750-40b8-fe8f-4bb1a2afbe90"
      },
      "source": [
        "scaler.fit(data[['New_cases']])"
      ],
      "execution_count": 24,
      "outputs": [
        {
          "output_type": "execute_result",
          "data": {
            "text/plain": [
              "MinMaxScaler(copy=True, feature_range=(0, 1))"
            ]
          },
          "metadata": {
            "tags": []
          },
          "execution_count": 24
        }
      ]
    },
    {
      "cell_type": "code",
      "metadata": {
        "id": "Uv-kSS1xl2q1"
      },
      "source": [
        "scaled_train = pd.DataFrame(scaler.transform(data[[\"New_cases\"]]))"
      ],
      "execution_count": 25,
      "outputs": []
    },
    {
      "cell_type": "markdown",
      "metadata": {
        "id": "16Bbodqyo0rb"
      },
      "source": [
        "## Create Dataset"
      ]
    },
    {
      "cell_type": "code",
      "metadata": {
        "id": "NcoNtFsBDbO0"
      },
      "source": [
        "def prepare_data(data,n_features):\r\n",
        "  X, y, = [], []\r\n",
        "  for i in range(len(data)):\r\n",
        "    end = i + n_features\r\n",
        "    if end > len(data) - 1:\r\n",
        "      break\r\n",
        "    X.append(data[i:end])\r\n",
        "    y.append(data[end])\r\n",
        "  return np.array(X), np.array(y)"
      ],
      "execution_count": 34,
      "outputs": []
    },
    {
      "cell_type": "code",
      "metadata": {
        "colab": {
          "base_uri": "https://localhost:8080/",
          "height": 198
        },
        "id": "ltrNsaCjwy2Y",
        "outputId": "291ab851-9636-49c6-8caf-1bd1757af097"
      },
      "source": [
        "scaled_train.head()"
      ],
      "execution_count": 35,
      "outputs": [
        {
          "output_type": "execute_result",
          "data": {
            "text/html": [
              "<div>\n",
              "<style scoped>\n",
              "    .dataframe tbody tr th:only-of-type {\n",
              "        vertical-align: middle;\n",
              "    }\n",
              "\n",
              "    .dataframe tbody tr th {\n",
              "        vertical-align: top;\n",
              "    }\n",
              "\n",
              "    .dataframe thead th {\n",
              "        text-align: right;\n",
              "    }\n",
              "</style>\n",
              "<table border=\"1\" class=\"dataframe\">\n",
              "  <thead>\n",
              "    <tr style=\"text-align: right;\">\n",
              "      <th></th>\n",
              "      <th>0</th>\n",
              "    </tr>\n",
              "  </thead>\n",
              "  <tbody>\n",
              "    <tr>\n",
              "      <th>0</th>\n",
              "      <td>0.000051</td>\n",
              "    </tr>\n",
              "    <tr>\n",
              "      <th>1</th>\n",
              "      <td>0.000000</td>\n",
              "    </tr>\n",
              "    <tr>\n",
              "      <th>2</th>\n",
              "      <td>0.000000</td>\n",
              "    </tr>\n",
              "    <tr>\n",
              "      <th>3</th>\n",
              "      <td>0.000010</td>\n",
              "    </tr>\n",
              "    <tr>\n",
              "      <th>4</th>\n",
              "      <td>0.000010</td>\n",
              "    </tr>\n",
              "  </tbody>\n",
              "</table>\n",
              "</div>"
            ],
            "text/plain": [
              "          0\n",
              "0  0.000051\n",
              "1  0.000000\n",
              "2  0.000000\n",
              "3  0.000010\n",
              "4  0.000010"
            ]
          },
          "metadata": {
            "tags": []
          },
          "execution_count": 35
        }
      ]
    },
    {
      "cell_type": "code",
      "metadata": {
        "id": "YIkJ4wOav12b"
      },
      "source": [
        "scaled_train_list = list(scaled_train[0])"
      ],
      "execution_count": 36,
      "outputs": []
    },
    {
      "cell_type": "code",
      "metadata": {
        "id": "csSpfHSxoz-r"
      },
      "source": [
        "X_train, y_train = prepare_data(scaled_train_list, 15)"
      ],
      "execution_count": 37,
      "outputs": []
    },
    {
      "cell_type": "code",
      "metadata": {
        "colab": {
          "base_uri": "https://localhost:8080/"
        },
        "id": "UFGaCsvQoz8R",
        "outputId": "25803484-ca56-4008-d650-f993ee4c2326"
      },
      "source": [
        "X_train.shape,y_train.shape"
      ],
      "execution_count": 38,
      "outputs": [
        {
          "output_type": "execute_result",
          "data": {
            "text/plain": [
              "((326, 15), (326,))"
            ]
          },
          "metadata": {
            "tags": []
          },
          "execution_count": 38
        }
      ]
    },
    {
      "cell_type": "code",
      "metadata": {
        "id": "ZBFcY9i8w-8Q"
      },
      "source": [
        "X_train = X_train.reshape(X_train.shape[0],X_train.shape[1],1)"
      ],
      "execution_count": 39,
      "outputs": []
    },
    {
      "cell_type": "code",
      "metadata": {
        "colab": {
          "base_uri": "https://localhost:8080/"
        },
        "id": "fh5vD_uIxgvo",
        "outputId": "9cce5cf1-1419-4528-8b05-5ac468f57221"
      },
      "source": [
        "X_train.shape"
      ],
      "execution_count": 40,
      "outputs": [
        {
          "output_type": "execute_result",
          "data": {
            "text/plain": [
              "(326, 15, 1)"
            ]
          },
          "metadata": {
            "tags": []
          },
          "execution_count": 40
        }
      ]
    },
    {
      "cell_type": "markdown",
      "metadata": {
        "id": "q1Qbe3XqqZGo"
      },
      "source": [
        "## Model"
      ]
    },
    {
      "cell_type": "code",
      "metadata": {
        "id": "w78_SDqFoz1w"
      },
      "source": [
        "import tensorflow as tf\r\n",
        "from tensorflow.keras.models import Sequential\r\n",
        "from tensorflow.keras.layers import LSTM, Dense, Bidirectional, Flatten, Dropout"
      ],
      "execution_count": 41,
      "outputs": []
    },
    {
      "cell_type": "code",
      "metadata": {
        "id": "XKUO9A24ozyh"
      },
      "source": [
        "model = Sequential()\r\n",
        "model.add(LSTM(100, return_sequences=True, input_shape=(15, 1)))\r\n",
        "model.add(Dropout(0.2))\r\n",
        "model.add(LSTM(100,return_sequences=True))\r\n",
        "model.add(Dropout(0.2))\r\n",
        "model.add(LSTM(100))\r\n",
        "model.add(Dropout(0.2))\r\n",
        "model.add(Dense(units=1))"
      ],
      "execution_count": 42,
      "outputs": []
    },
    {
      "cell_type": "code",
      "metadata": {
        "id": "tjKScFx-l2nI"
      },
      "source": [
        "# model.summary()\r\n",
        "model.compile(loss='mean_squared_error', optimizer='adam')"
      ],
      "execution_count": 43,
      "outputs": []
    },
    {
      "cell_type": "code",
      "metadata": {
        "colab": {
          "base_uri": "https://localhost:8080/"
        },
        "id": "4GhvsnJVrGKF",
        "outputId": "e4225971-0711-4424-9de5-6db8cf2053e5"
      },
      "source": [
        " model.fit(\r\n",
        "    X_train, y_train,\r\n",
        "    epochs=100,\r\n",
        "    batch_size=8,\r\n",
        "    validation_split=0.1,\r\n",
        "    shuffle=False\r\n",
        ")"
      ],
      "execution_count": 44,
      "outputs": [
        {
          "output_type": "stream",
          "text": [
            "Epoch 1/100\n",
            "37/37 [==============================] - 7s 70ms/step - loss: 0.0015 - val_loss: 0.0111\n",
            "Epoch 2/100\n",
            "37/37 [==============================] - 1s 31ms/step - loss: 0.0281 - val_loss: 0.0152\n",
            "Epoch 3/100\n",
            "37/37 [==============================] - 1s 32ms/step - loss: 0.0311 - val_loss: 0.0023\n",
            "Epoch 4/100\n",
            "37/37 [==============================] - 1s 31ms/step - loss: 0.0370 - val_loss: 0.0046\n",
            "Epoch 5/100\n",
            "37/37 [==============================] - 1s 31ms/step - loss: 0.0478 - val_loss: 0.0492\n",
            "Epoch 6/100\n",
            "37/37 [==============================] - 1s 31ms/step - loss: 0.0392 - val_loss: 0.0516\n",
            "Epoch 7/100\n",
            "37/37 [==============================] - 1s 32ms/step - loss: 0.0112 - val_loss: 0.0526\n",
            "Epoch 8/100\n",
            "37/37 [==============================] - 1s 31ms/step - loss: 0.0112 - val_loss: 0.0424\n",
            "Epoch 9/100\n",
            "37/37 [==============================] - 1s 31ms/step - loss: 0.0051 - val_loss: 0.0218\n",
            "Epoch 10/100\n",
            "37/37 [==============================] - 1s 32ms/step - loss: 0.0057 - val_loss: 0.0269\n",
            "Epoch 11/100\n",
            "37/37 [==============================] - 1s 31ms/step - loss: 0.0038 - val_loss: 0.0152\n",
            "Epoch 12/100\n",
            "37/37 [==============================] - 1s 31ms/step - loss: 0.0053 - val_loss: 0.0185\n",
            "Epoch 13/100\n",
            "37/37 [==============================] - 1s 31ms/step - loss: 0.0036 - val_loss: 0.0131\n",
            "Epoch 14/100\n",
            "37/37 [==============================] - 1s 31ms/step - loss: 0.0043 - val_loss: 0.0170\n",
            "Epoch 15/100\n",
            "37/37 [==============================] - 1s 31ms/step - loss: 0.0034 - val_loss: 0.0153\n",
            "Epoch 16/100\n",
            "37/37 [==============================] - 1s 32ms/step - loss: 0.0037 - val_loss: 0.0129\n",
            "Epoch 17/100\n",
            "37/37 [==============================] - 1s 31ms/step - loss: 0.0047 - val_loss: 0.0159\n",
            "Epoch 18/100\n",
            "37/37 [==============================] - 1s 31ms/step - loss: 0.0049 - val_loss: 0.0161\n",
            "Epoch 19/100\n",
            "37/37 [==============================] - 1s 32ms/step - loss: 0.0048 - val_loss: 0.0121\n",
            "Epoch 20/100\n",
            "37/37 [==============================] - 2s 45ms/step - loss: 0.0053 - val_loss: 0.0118\n",
            "Epoch 21/100\n",
            "37/37 [==============================] - 2s 52ms/step - loss: 0.0057 - val_loss: 0.0102\n",
            "Epoch 22/100\n",
            "37/37 [==============================] - 2s 53ms/step - loss: 0.0052 - val_loss: 0.0081\n",
            "Epoch 23/100\n",
            "37/37 [==============================] - 2s 54ms/step - loss: 0.0058 - val_loss: 0.0085\n",
            "Epoch 24/100\n",
            "37/37 [==============================] - 2s 54ms/step - loss: 0.0054 - val_loss: 0.0083\n",
            "Epoch 25/100\n",
            "37/37 [==============================] - 2s 55ms/step - loss: 0.0053 - val_loss: 0.0075\n",
            "Epoch 26/100\n",
            "37/37 [==============================] - 2s 48ms/step - loss: 0.0048 - val_loss: 0.0061\n",
            "Epoch 27/100\n",
            "37/37 [==============================] - 1s 33ms/step - loss: 0.0048 - val_loss: 0.0065\n",
            "Epoch 28/100\n",
            "37/37 [==============================] - 1s 31ms/step - loss: 0.0041 - val_loss: 0.0072\n",
            "Epoch 29/100\n",
            "37/37 [==============================] - 1s 32ms/step - loss: 0.0032 - val_loss: 0.0035\n",
            "Epoch 30/100\n",
            "37/37 [==============================] - 1s 31ms/step - loss: 0.0042 - val_loss: 0.0054\n",
            "Epoch 31/100\n",
            "37/37 [==============================] - 1s 32ms/step - loss: 0.0033 - val_loss: 0.0029\n",
            "Epoch 32/100\n",
            "37/37 [==============================] - 1s 33ms/step - loss: 0.0048 - val_loss: 0.0050\n",
            "Epoch 33/100\n",
            "37/37 [==============================] - 1s 32ms/step - loss: 0.0035 - val_loss: 0.0041\n",
            "Epoch 34/100\n",
            "37/37 [==============================] - 1s 32ms/step - loss: 0.0040 - val_loss: 0.0026\n",
            "Epoch 35/100\n",
            "37/37 [==============================] - 1s 33ms/step - loss: 0.0043 - val_loss: 0.0038\n",
            "Epoch 36/100\n",
            "37/37 [==============================] - 1s 32ms/step - loss: 0.0054 - val_loss: 0.0039\n",
            "Epoch 37/100\n",
            "37/37 [==============================] - 1s 31ms/step - loss: 0.0044 - val_loss: 0.0031\n",
            "Epoch 38/100\n",
            "37/37 [==============================] - 1s 31ms/step - loss: 0.0029 - val_loss: 0.0015\n",
            "Epoch 39/100\n",
            "37/37 [==============================] - 1s 31ms/step - loss: 0.0018 - val_loss: 0.0016\n",
            "Epoch 40/100\n",
            "37/37 [==============================] - 1s 32ms/step - loss: 0.0014 - val_loss: 8.5058e-04\n",
            "Epoch 41/100\n",
            "37/37 [==============================] - 1s 32ms/step - loss: 0.0027 - val_loss: 7.0676e-04\n",
            "Epoch 42/100\n",
            "37/37 [==============================] - 1s 31ms/step - loss: 0.0013 - val_loss: 0.0013\n",
            "Epoch 43/100\n",
            "37/37 [==============================] - 1s 31ms/step - loss: 0.0022 - val_loss: 0.0026\n",
            "Epoch 44/100\n",
            "37/37 [==============================] - 1s 33ms/step - loss: 0.0024 - val_loss: 0.0016\n",
            "Epoch 45/100\n",
            "37/37 [==============================] - 1s 32ms/step - loss: 0.0020 - val_loss: 7.5754e-04\n",
            "Epoch 46/100\n",
            "37/37 [==============================] - 1s 32ms/step - loss: 0.0018 - val_loss: 0.0011\n",
            "Epoch 47/100\n",
            "37/37 [==============================] - 1s 31ms/step - loss: 0.0014 - val_loss: 9.5342e-04\n",
            "Epoch 48/100\n",
            "37/37 [==============================] - 1s 31ms/step - loss: 0.0027 - val_loss: 0.0011\n",
            "Epoch 49/100\n",
            "37/37 [==============================] - 1s 32ms/step - loss: 0.0020 - val_loss: 7.3523e-04\n",
            "Epoch 50/100\n",
            "37/37 [==============================] - 1s 32ms/step - loss: 0.0021 - val_loss: 8.2103e-04\n",
            "Epoch 51/100\n",
            "37/37 [==============================] - 1s 31ms/step - loss: 0.0018 - val_loss: 9.4523e-04\n",
            "Epoch 52/100\n",
            "37/37 [==============================] - 1s 32ms/step - loss: 0.0017 - val_loss: 0.0010\n",
            "Epoch 53/100\n",
            "37/37 [==============================] - 1s 31ms/step - loss: 0.0017 - val_loss: 0.0015\n",
            "Epoch 54/100\n",
            "37/37 [==============================] - 1s 31ms/step - loss: 0.0058 - val_loss: 0.0102\n",
            "Epoch 55/100\n",
            "37/37 [==============================] - 1s 31ms/step - loss: 0.0106 - val_loss: 0.0046\n",
            "Epoch 56/100\n",
            "37/37 [==============================] - 1s 31ms/step - loss: 0.0104 - val_loss: 0.0052\n",
            "Epoch 57/100\n",
            "37/37 [==============================] - 1s 36ms/step - loss: 0.0086 - val_loss: 0.0027\n",
            "Epoch 58/100\n",
            "37/37 [==============================] - 1s 32ms/step - loss: 0.0082 - val_loss: 0.0022\n",
            "Epoch 59/100\n",
            "37/37 [==============================] - 1s 32ms/step - loss: 0.0062 - val_loss: 0.0083\n",
            "Epoch 60/100\n",
            "37/37 [==============================] - 1s 32ms/step - loss: 0.0084 - val_loss: 0.0048\n",
            "Epoch 61/100\n",
            "37/37 [==============================] - 1s 32ms/step - loss: 0.0030 - val_loss: 0.0031\n",
            "Epoch 62/100\n",
            "37/37 [==============================] - 1s 32ms/step - loss: 0.0047 - val_loss: 0.0028\n",
            "Epoch 63/100\n",
            "37/37 [==============================] - 1s 31ms/step - loss: 0.0044 - val_loss: 0.0021\n",
            "Epoch 64/100\n",
            "37/37 [==============================] - 1s 30ms/step - loss: 0.0035 - val_loss: 0.0017\n",
            "Epoch 65/100\n",
            "37/37 [==============================] - 1s 30ms/step - loss: 0.0031 - val_loss: 0.0018\n",
            "Epoch 66/100\n",
            "37/37 [==============================] - 1s 31ms/step - loss: 0.0023 - val_loss: 0.0010\n",
            "Epoch 67/100\n",
            "37/37 [==============================] - 1s 31ms/step - loss: 0.0011 - val_loss: 7.8763e-04\n",
            "Epoch 68/100\n",
            "37/37 [==============================] - 1s 31ms/step - loss: 0.0019 - val_loss: 0.0019\n",
            "Epoch 69/100\n",
            "37/37 [==============================] - 1s 31ms/step - loss: 0.0032 - val_loss: 0.0021\n",
            "Epoch 70/100\n",
            "37/37 [==============================] - 1s 32ms/step - loss: 0.0024 - val_loss: 0.0015\n",
            "Epoch 71/100\n",
            "37/37 [==============================] - 1s 32ms/step - loss: 0.0016 - val_loss: 7.5344e-04\n",
            "Epoch 72/100\n",
            "37/37 [==============================] - 1s 31ms/step - loss: 0.0016 - val_loss: 7.7776e-04\n",
            "Epoch 73/100\n",
            "37/37 [==============================] - 1s 31ms/step - loss: 0.0017 - val_loss: 0.0016\n",
            "Epoch 74/100\n",
            "37/37 [==============================] - 1s 31ms/step - loss: 0.0034 - val_loss: 0.0038\n",
            "Epoch 75/100\n",
            "37/37 [==============================] - 1s 32ms/step - loss: 0.0037 - val_loss: 0.0018\n",
            "Epoch 76/100\n",
            "37/37 [==============================] - 1s 31ms/step - loss: 0.0023 - val_loss: 9.7088e-04\n",
            "Epoch 77/100\n",
            "37/37 [==============================] - 1s 31ms/step - loss: 0.0015 - val_loss: 0.0011\n",
            "Epoch 78/100\n",
            "37/37 [==============================] - 1s 32ms/step - loss: 0.0014 - val_loss: 8.9388e-04\n",
            "Epoch 79/100\n",
            "37/37 [==============================] - 1s 31ms/step - loss: 0.0020 - val_loss: 0.0021\n",
            "Epoch 80/100\n",
            "37/37 [==============================] - 1s 32ms/step - loss: 0.0044 - val_loss: 0.0025\n",
            "Epoch 81/100\n",
            "37/37 [==============================] - 1s 31ms/step - loss: 0.0047 - val_loss: 0.0012\n",
            "Epoch 82/100\n",
            "37/37 [==============================] - 1s 32ms/step - loss: 0.0030 - val_loss: 0.0025\n",
            "Epoch 83/100\n",
            "37/37 [==============================] - 1s 32ms/step - loss: 0.0021 - val_loss: 9.8089e-04\n",
            "Epoch 84/100\n",
            "37/37 [==============================] - 1s 32ms/step - loss: 0.0015 - val_loss: 0.0015\n",
            "Epoch 85/100\n",
            "37/37 [==============================] - 1s 32ms/step - loss: 0.0059 - val_loss: 0.0063\n",
            "Epoch 86/100\n",
            "37/37 [==============================] - 1s 32ms/step - loss: 0.0110 - val_loss: 0.0064\n",
            "Epoch 87/100\n",
            "37/37 [==============================] - 1s 32ms/step - loss: 0.0098 - val_loss: 0.0055\n",
            "Epoch 88/100\n",
            "37/37 [==============================] - 1s 32ms/step - loss: 0.0092 - val_loss: 0.0036\n",
            "Epoch 89/100\n",
            "37/37 [==============================] - 1s 32ms/step - loss: 0.0046 - val_loss: 0.0011\n",
            "Epoch 90/100\n",
            "37/37 [==============================] - 1s 31ms/step - loss: 0.0019 - val_loss: 0.0011\n",
            "Epoch 91/100\n",
            "37/37 [==============================] - 1s 32ms/step - loss: 0.0014 - val_loss: 9.2669e-04\n",
            "Epoch 92/100\n",
            "37/37 [==============================] - 1s 32ms/step - loss: 0.0039 - val_loss: 0.0031\n",
            "Epoch 93/100\n",
            "37/37 [==============================] - 1s 31ms/step - loss: 0.0045 - val_loss: 0.0022\n",
            "Epoch 94/100\n",
            "37/37 [==============================] - 1s 32ms/step - loss: 0.0030 - val_loss: 0.0014\n",
            "Epoch 95/100\n",
            "37/37 [==============================] - 1s 32ms/step - loss: 0.0020 - val_loss: 8.8370e-04\n",
            "Epoch 96/100\n",
            "37/37 [==============================] - 1s 32ms/step - loss: 0.0012 - val_loss: 7.2874e-04\n",
            "Epoch 97/100\n",
            "37/37 [==============================] - 1s 31ms/step - loss: 0.0015 - val_loss: 0.0012\n",
            "Epoch 98/100\n",
            "37/37 [==============================] - 1s 32ms/step - loss: 0.0021 - val_loss: 0.0015\n",
            "Epoch 99/100\n",
            "37/37 [==============================] - 1s 31ms/step - loss: 0.0023 - val_loss: 7.7581e-04\n",
            "Epoch 100/100\n",
            "37/37 [==============================] - 1s 33ms/step - loss: 0.0012 - val_loss: 6.8789e-04\n"
          ],
          "name": "stdout"
        },
        {
          "output_type": "execute_result",
          "data": {
            "text/plain": [
              "<tensorflow.python.keras.callbacks.History at 0x7f17863a33c8>"
            ]
          },
          "metadata": {
            "tags": []
          },
          "execution_count": 44
        }
      ]
    },
    {
      "cell_type": "code",
      "metadata": {
        "id": "oXdRUgQJrGHU",
        "colab": {
          "base_uri": "https://localhost:8080/"
        },
        "outputId": "ab7f75cf-227a-4dd9-9850-a244fbf31516"
      },
      "source": [
        "model.history.history.keys()"
      ],
      "execution_count": 45,
      "outputs": [
        {
          "output_type": "execute_result",
          "data": {
            "text/plain": [
              "dict_keys(['loss', 'val_loss'])"
            ]
          },
          "metadata": {
            "tags": []
          },
          "execution_count": 45
        }
      ]
    },
    {
      "cell_type": "code",
      "metadata": {
        "id": "rUncM4PlEY4y"
      },
      "source": [
        "import matplotlib.pyplot as plt"
      ],
      "execution_count": 47,
      "outputs": []
    },
    {
      "cell_type": "code",
      "metadata": {
        "colab": {
          "base_uri": "https://localhost:8080/",
          "height": 265
        },
        "id": "-yqDIPD1rGDF",
        "outputId": "c61effc2-ec26-4208-8179-3da45d1a7e88"
      },
      "source": [
        "plt.plot(model.history.history[\"loss\"])\r\n",
        "plt.plot(model.history.history[\"val_loss\"])\r\n",
        "plt.show()"
      ],
      "execution_count": 48,
      "outputs": [
        {
          "output_type": "display_data",
          "data": {
            "image/png": "[encoded data removed]",
            "text/plain": [
              "<Figure size 432x288 with 1 Axes>"
            ]
          },
          "metadata": {
            "tags": [],
            "needs_background": "light"
          }
        }
      ]
    },
    {
      "cell_type": "markdown",
      "metadata": {
        "id": "Mfvjw8qSsAqd"
      },
      "source": [
        "## Next 15 Days Prediction"
      ]
    },
    {
      "cell_type": "code",
      "metadata": {
        "colab": {
          "base_uri": "https://localhost:8080/"
        },
        "id": "yuFkOMw6sJ9r",
        "outputId": "638fcc11-96d3-4333-b357-0bf0efefd545"
      },
      "source": [
        "x_input = np.array(list(scaled_train[0][-15:]))\r\n",
        "temp_input=list(x_input)\r\n",
        "lst_output=[]\r\n",
        "print(temp_input)"
      ],
      "execution_count": 49,
      "outputs": [
        {
          "output_type": "stream",
          "text": [
            "[0.2486056346660674, 0.1997670950211453, 0.24465237910392873, 0.25243630866038774, 0.23563241873863566, 0.22752160500132798, 0.19134982736429199, 0.2045171307741026, 0.16785502686579362, 0.2099107197581057, 0.22291458107749199, 0.2046601426032239, 0.1948944777003698, 0.1856804298526978, 0.16859051627270313]\n"
          ],
          "name": "stdout"
        }
      ]
    },
    {
      "cell_type": "code",
      "metadata": {
        "colab": {
          "base_uri": "https://localhost:8080/"
        },
        "id": "MnVSm10xsATw",
        "outputId": "53c1a150-6c02-4da6-a309-135940208273"
      },
      "source": [
        "i=0\r\n",
        "while(i<15):\r\n",
        "    if(len(temp_input)>15):\r\n",
        "        x_input=np.array(temp_input[1:])\r\n",
        "        x_input = x_input.reshape((1, 15, 1))\r\n",
        "        yhat = model.predict(x_input, verbose=0)\r\n",
        "        temp_input.append(yhat[0][0])\r\n",
        "        temp_input=temp_input[1:]\r\n",
        "        lst_output.append(yhat[0][0])\r\n",
        "        i=i+1\r\n",
        "    else:\r\n",
        "        x_input = x_input.reshape((1, 15, 1))\r\n",
        "        yhat = model.predict(x_input, verbose=0)\r\n",
        "        temp_input.append(yhat[0][0])\r\n",
        "        lst_output.append(yhat[0][0])\r\n",
        "        i=i+1\r\n",
        "    \r\n",
        "\r\n",
        "print(lst_output)"
      ],
      "execution_count": 50,
      "outputs": [
        {
          "output_type": "stream",
          "text": [
            "[0.18012181, 0.1749917, 0.17256948, 0.16724762, 0.16026402, 0.15308428, 0.14555, 0.13958454, 0.13281012, 0.12803108, 0.120879546, 0.11205557, 0.10309938, 0.09378202, 0.08424474]\n"
          ],
          "name": "stdout"
        }
      ]
    },
    {
      "cell_type": "code",
      "metadata": {
        "id": "JDQiilbkyNjc"
      },
      "source": [
        "from datetime import date, timedelta\r\n",
        "d1 = date(2021, 1, 5)   # start date\r\n",
        "d2 = date(2021, 1, 20)\r\n",
        "days = [d1 + timedelta(days=x) for x in range((d2-d1).days + 1)]"
      ],
      "execution_count": 52,
      "outputs": []
    },
    {
      "cell_type": "code",
      "metadata": {
        "colab": {
          "base_uri": "https://localhost:8080/"
        },
        "id": "zugCJ6lpy532",
        "outputId": "817d5d16-19cb-4dbb-c478-a84f24ecfe39"
      },
      "source": [
        "for i in range(15):\r\n",
        "  print(f\"{str(days[i])}: {int(scaler.inverse_transform([[lst_output[i]]])[0][0])}\")"
      ],
      "execution_count": 56,
      "outputs": [
        {
          "output_type": "stream",
          "text": [
            "2021-01-05: 17632\n",
            "2021-01-06: 17130\n",
            "2021-01-07: 16893\n",
            "2021-01-08: 16372\n",
            "2021-01-09: 15688\n",
            "2021-01-10: 14986\n",
            "2021-01-11: 14248\n",
            "2021-01-12: 13664\n",
            "2021-01-13: 13001\n",
            "2021-01-14: 12533\n",
            "2021-01-15: 11833\n",
            "2021-01-16: 10969\n",
            "2021-01-17: 10092\n",
            "2021-01-18: 9180\n",
            "2021-01-19: 8247\n"
          ],
          "name": "stdout"
        }
      ]
    },
    {
      "cell_type": "code",
      "metadata": {
        "id": "ENApawjJEn1R"
      },
      "source": [
        ""
      ],
      "execution_count": 53,
      "outputs": []
    }
  ]
}